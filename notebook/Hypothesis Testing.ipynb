{
 "cells": [
  {
   "cell_type": "code",
   "execution_count": 1,
   "metadata": {},
   "outputs": [],
   "source": [
    "import numpy as np\n",
    "import pandas as pd\n",
    "import scipy.stats as stats\n",
    "import seaborn as sns\n",
    "import matplotlib.pyplot as plt\n",
    "from sklearn.linear_model import LinearRegression\n",
    "from sklearn.model_selection import train_test_split\n",
    "from sklearn.metrics import r2_score, mean_squared_error\n",
    "\n",
    "from statsmodels.stats.weightstats import ztest as ztest"
   ]
  },
  {
   "cell_type": "code",
   "execution_count": 2,
   "metadata": {},
   "outputs": [
    {
     "data": {
      "text/html": [
       "<div>\n",
       "<style scoped>\n",
       "    .dataframe tbody tr th:only-of-type {\n",
       "        vertical-align: middle;\n",
       "    }\n",
       "\n",
       "    .dataframe tbody tr th {\n",
       "        vertical-align: top;\n",
       "    }\n",
       "\n",
       "    .dataframe thead th {\n",
       "        text-align: right;\n",
       "    }\n",
       "</style>\n",
       "<table border=\"1\" class=\"dataframe\">\n",
       "  <thead>\n",
       "    <tr style=\"text-align: right;\">\n",
       "      <th></th>\n",
       "      <th>latitude</th>\n",
       "      <th>longitude</th>\n",
       "      <th>depth</th>\n",
       "      <th>magnitude</th>\n",
       "      <th>magnitude_type</th>\n",
       "      <th>distance</th>\n",
       "      <th>gravity</th>\n",
       "      <th>force</th>\n",
       "      <th>year</th>\n",
       "      <th>month</th>\n",
       "      <th>hour</th>\n",
       "      <th>minutes</th>\n",
       "      <th>day_name</th>\n",
       "    </tr>\n",
       "  </thead>\n",
       "  <tbody>\n",
       "    <tr>\n",
       "      <th>0</th>\n",
       "      <td>38.248400</td>\n",
       "      <td>38.106400</td>\n",
       "      <td>4.75</td>\n",
       "      <td>4.10</td>\n",
       "      <td>least damage</td>\n",
       "      <td>403639.392</td>\n",
       "      <td>9.8001</td>\n",
       "      <td>1.797660e+20</td>\n",
       "      <td>2024</td>\n",
       "      <td>7</td>\n",
       "      <td>21</td>\n",
       "      <td>41</td>\n",
       "      <td>Tuesday</td>\n",
       "    </tr>\n",
       "    <tr>\n",
       "      <th>1</th>\n",
       "      <td>18.085167</td>\n",
       "      <td>-66.650833</td>\n",
       "      <td>20.18</td>\n",
       "      <td>2.50</td>\n",
       "      <td>least damage</td>\n",
       "      <td>395082.122</td>\n",
       "      <td>9.7854</td>\n",
       "      <td>1.876376e+20</td>\n",
       "      <td>2024</td>\n",
       "      <td>7</td>\n",
       "      <td>21</td>\n",
       "      <td>10</td>\n",
       "      <td>Tuesday</td>\n",
       "    </tr>\n",
       "    <tr>\n",
       "      <th>2</th>\n",
       "      <td>60.538200</td>\n",
       "      <td>-151.809200</td>\n",
       "      <td>71.10</td>\n",
       "      <td>3.60</td>\n",
       "      <td>least damage</td>\n",
       "      <td>399158.905</td>\n",
       "      <td>9.8196</td>\n",
       "      <td>1.838243e+20</td>\n",
       "      <td>2024</td>\n",
       "      <td>7</td>\n",
       "      <td>19</td>\n",
       "      <td>53</td>\n",
       "      <td>Tuesday</td>\n",
       "    </tr>\n",
       "    <tr>\n",
       "      <th>3</th>\n",
       "      <td>34.113400</td>\n",
       "      <td>86.120600</td>\n",
       "      <td>10.00</td>\n",
       "      <td>4.00</td>\n",
       "      <td>least damage</td>\n",
       "      <td>404343.124</td>\n",
       "      <td>9.7966</td>\n",
       "      <td>1.791408e+20</td>\n",
       "      <td>2024</td>\n",
       "      <td>7</td>\n",
       "      <td>19</td>\n",
       "      <td>18</td>\n",
       "      <td>Tuesday</td>\n",
       "    </tr>\n",
       "    <tr>\n",
       "      <th>4</th>\n",
       "      <td>31.499167</td>\n",
       "      <td>-115.628667</td>\n",
       "      <td>8.38</td>\n",
       "      <td>2.72</td>\n",
       "      <td>least damage</td>\n",
       "      <td>397055.439</td>\n",
       "      <td>9.7944</td>\n",
       "      <td>1.857772e+20</td>\n",
       "      <td>2024</td>\n",
       "      <td>7</td>\n",
       "      <td>19</td>\n",
       "      <td>8</td>\n",
       "      <td>Tuesday</td>\n",
       "    </tr>\n",
       "  </tbody>\n",
       "</table>\n",
       "</div>"
      ],
      "text/plain": [
       "    latitude   longitude  depth  magnitude magnitude_type    distance  \\\n",
       "0  38.248400   38.106400   4.75       4.10   least damage  403639.392   \n",
       "1  18.085167  -66.650833  20.18       2.50   least damage  395082.122   \n",
       "2  60.538200 -151.809200  71.10       3.60   least damage  399158.905   \n",
       "3  34.113400   86.120600  10.00       4.00   least damage  404343.124   \n",
       "4  31.499167 -115.628667   8.38       2.72   least damage  397055.439   \n",
       "\n",
       "   gravity         force  year  month  hour  minutes day_name  \n",
       "0   9.8001  1.797660e+20  2024      7    21       41  Tuesday  \n",
       "1   9.7854  1.876376e+20  2024      7    21       10  Tuesday  \n",
       "2   9.8196  1.838243e+20  2024      7    19       53  Tuesday  \n",
       "3   9.7966  1.791408e+20  2024      7    19       18  Tuesday  \n",
       "4   9.7944  1.857772e+20  2024      7    19        8  Tuesday  "
      ]
     },
     "execution_count": 2,
     "metadata": {},
     "output_type": "execute_result"
    }
   ],
   "source": [
    "earthquake_df = pd.read_csv('../datasets/final_dataset/cleaned_earthquake_data.csv')\n",
    "earthquake_df.head()"
   ]
  },
  {
   "cell_type": "code",
   "execution_count": 3,
   "metadata": {},
   "outputs": [
    {
     "data": {
      "text/plain": [
       "(314351, 13)"
      ]
     },
     "execution_count": 3,
     "metadata": {},
     "output_type": "execute_result"
    }
   ],
   "source": [
    "earthquake_df.shape"
   ]
  },
  {
   "cell_type": "markdown",
   "metadata": {},
   "source": [
    "## 1. The mass of the Moon is approximately 81 times less than that of Earth. The centre of mass of the Earth-Moon system is located near the Earth due to its significantly larger mass. Gravitational force between earth and moon  play a role in the occurrence of earthquakes."
   ]
  },
  {
   "cell_type": "markdown",
   "metadata": {},
   "source": [
    "### Hypothesis Formulation\n",
    "\n",
    "- Null Hypothesis (h0): The gravitational force between the Moon and Earth does not play a significant role in the occurrence of earthquakes.\n",
    "- Alternative Hypothesis (H1): The gravitational force between Moon and Earth plays a significant role in the occurrence of earthquakes. "
   ]
  },
  {
   "cell_type": "code",
   "execution_count": 4,
   "metadata": {},
   "outputs": [
    {
     "name": "stdout",
     "output_type": "stream",
     "text": [
      "Total size:  314351\n",
      "sample_25:  (62870, 13)\n",
      "Sample size for Hypothesis Tesing is:  62870\n"
     ]
    }
   ],
   "source": [
    "# Determine the sample sizes\n",
    "total_size = len(earthquake_df)  # Total number of rows in the dataset\n",
    "print(\"Total size: \",total_size)\n",
    "\n",
    "sample_size_20 = int(0.20 * total_size)  # 20% of the total data\n",
    "\n",
    "# Select the samples\n",
    "sample_20 = earthquake_df.sample(n=sample_size_20, random_state=42)\n",
    "\n",
    "print(\"sample_25: \", sample_20.shape)\n",
    "print(\"Sample size for Hypothesis Tesing is: \", len(sample_20))"
   ]
  },
  {
   "cell_type": "code",
   "execution_count": 5,
   "metadata": {},
   "outputs": [
    {
     "name": "stdout",
     "output_type": "stream",
     "text": [
      "Sample Mean:  1.9867652444066e+20\n",
      "Population Mean:  1.986427977691459e+20\n"
     ]
    }
   ],
   "source": [
    "# Calculate the sample mean and standard deviation of the gravity\n",
    "def get_mean(df, feature):\n",
    "    mean_value = stats.tmean(df[feature])\n",
    "    return mean_value;\n",
    "\n",
    "\n",
    "sample_mean_force = np.round(get_mean(sample_20,'force'), 4)\n",
    "\n",
    "# Population mean for Earth's gravitational force (assumed)\n",
    "population_mean_force = np.round(np.mean(earthquake_df['force']),4)\n",
    "\n",
    "print(\"Sample Mean: \",sample_mean_force)\n",
    "print(\"Population Mean: \",population_mean_force)"
   ]
  },
  {
   "cell_type": "code",
   "execution_count": 6,
   "metadata": {},
   "outputs": [
    {
     "name": "stdout",
     "output_type": "stream",
     "text": [
      "Z-score: 0.0000\n",
      "P-value: 1.0000\n",
      "Fail to reject the null hypothesis. The gravitational force does not have a significant effect on earthquake magnitude.\n"
     ]
    }
   ],
   "source": [
    "# Perform the Z-test\n",
    "z_score, p_value = ztest(earthquake_df['force'], value=population_mean_force)\n",
    "\n",
    "# Output results\n",
    "print(f\"Z-score: {z_score:.4f}\")\n",
    "print(f\"P-value: {p_value:.4f}\")\n",
    "\n",
    "# Interpretation\n",
    "alpha = 0.05  # Significance level\n",
    "if p_value < alpha:\n",
    "    print(\"Reject the null hypothesis. The gravitational force might have a significant effect on earthquake magnitude.\")\n",
    "else:\n",
    "    print(\"Fail to reject the null hypothesis. The gravitational force does not have a significant effect on earthquake magnitude.\")"
   ]
  },
  {
   "cell_type": "markdown",
   "metadata": {},
   "source": [
    "## 2. The gravity of Earth exhibits variations from one location to another. These fluctuations in `gravitational acceleration (g)` across different places contribute to or influence seismic activities, such as earthquakes. analysis hypothesis for this statement.\n",
    "\n",
    "#### Reference: https://kuscholarworks.ku.edu/server/api/core/bitstreams/1f9e5327-a52d-43c1-924c-4e812586162d/content\n",
    "\n",
    "https://medium.com/@codewithpj/hypothesis-testing-with-python-t-test-z-test-and-p-values-code-examples-fa274dc58c36#:~:text=Z%2Dtest%20is%20used%20to,population%20standard%20deviation%20is%20known."
   ]
  },
  {
   "cell_type": "markdown",
   "metadata": {},
   "source": [
    "### Hypothesis Formulation\n",
    "\n",
    "- Null Hypothesis (h0): Variations in gravitational acceleration across different locations do not have a statistically significant effect on earthquake magnitude. In other words, gravity does not influence seismic activity.\n",
    "\n",
    "- Alternative Hypothesis (H1): Variations in gravitational acceleration across different locations have a statistically significant effect on earthquake magnitude. In other words, gravity does influence seismic activity."
   ]
  },
  {
   "cell_type": "markdown",
   "metadata": {},
   "source": [
    "#### Independent Sample T-test: used to compare the mean values of two different samples from two different populations.\n",
    "\n"
   ]
  },
  {
   "cell_type": "code",
   "execution_count": 7,
   "metadata": {},
   "outputs": [
    {
     "name": "stdout",
     "output_type": "stream",
     "text": [
      "Median Gravity: 9.7947\n",
      "T-test Statistic: 154.1018, P-value: 0.0000\n",
      "Reject the null hypothesis. Gravity variations have a significant effect on earthquake magnitude.\n"
     ]
    }
   ],
   "source": [
    "# 2. Hypothesis Testing (T-test)\n",
    "# Grouping data by gravity (e.g., low gravity vs. high gravity)\n",
    "low_gravity = earthquake_df[earthquake_df['gravity'] < earthquake_df['gravity'].median()]['magnitude']\n",
    "high_gravity = earthquake_df[earthquake_df['gravity'] > earthquake_df['gravity'].median()]['magnitude']\n",
    "print(\"Median Gravity:\", earthquake_df['gravity'].median())\n",
    "\n",
    "\n",
    "t_stat, p_value = stats.ttest_ind(low_gravity, high_gravity, equal_var=False)\n",
    "print(f\"T-test Statistic: {t_stat:.4f}, P-value: {p_value:.4f}\")\n",
    "\n",
    "# Interpretation of p-value\n",
    "alpha = 0.05\n",
    "if p_value < alpha:\n",
    "    print(\"Reject the null hypothesis. Gravity variations have a significant effect on earthquake magnitude.\")\n",
    "else:\n",
    "    print(\"Fail to reject the null hypothesis. Gravity variations do not have a significant effect on earthquake magnitude.\")"
   ]
  },
  {
   "cell_type": "markdown",
   "metadata": {},
   "source": [
    "## 3. The distance between the Moon and Earth undergoes periodic changes. There a correlation between these variations in the Moon-Earth distance and the incidence of earthquakes."
   ]
  },
  {
   "cell_type": "markdown",
   "metadata": {},
   "source": [
    "### Hypothesis Formulation\n",
    "\n",
    "- Null Hypothesis (h0): There is no significant correlation between variations in the Moon-Earth distance and the incidence of earthquakes. In other words, the Moon-Earth distance does not influence the occurrence of earthquakes.\n",
    "\n",
    "- Alternative Hypothesis (H1): There is a significant correlation between variations in the Moon-Earth distance and the incidence of earthquakes. In other words, the Moon-Earth distance does influence the occurrence of earthquakes."
   ]
  },
  {
   "cell_type": "code",
   "execution_count": 11,
   "metadata": {},
   "outputs": [
    {
     "name": "stdout",
     "output_type": "stream",
     "text": [
      "Pearson Correlation between Moon-Earth Distance and Magnitude: -0.0072\n"
     ]
    }
   ],
   "source": [
    "# Pearson correlation\n",
    "correlation = earthquake_df[['distance', 'magnitude']].corr().iloc[0, 1]\n",
    "print(f\"Pearson Correlation between Moon-Earth Distance and Magnitude: {correlation:.4f}\")"
   ]
  },
  {
   "cell_type": "code",
   "execution_count": 13,
   "metadata": {},
   "outputs": [
    {
     "name": "stdout",
     "output_type": "stream",
     "text": [
      "Median Distance: 385622.088\n"
     ]
    }
   ],
   "source": [
    "# Grouping data by Moon-Earth distance (low vs. high distance)\n",
    "median_distance = earthquake_df['distance'].median()\n",
    "low_distance = earthquake_df[earthquake_df['distance'] < median_distance]['magnitude']\n",
    "high_distance = earthquake_df[earthquake_df['distance'] >= median_distance]['magnitude']\n",
    "print(\"Median Distance:\", earthquake_df['distance'].median())"
   ]
  },
  {
   "cell_type": "code",
   "execution_count": 10,
   "metadata": {},
   "outputs": [
    {
     "name": "stdout",
     "output_type": "stream",
     "text": [
      "T-test Statistic: 4.7329, P-value: 0.0000\n",
      "Reject the null hypothesis. Moon-Earth distance variations have a significant effect on earthquake magnitude.\n"
     ]
    }
   ],
   "source": [
    "# Perform T-test\n",
    "t_stat, p_value = stats.ttest_ind(low_distance, high_distance, equal_var=False)\n",
    "print(f\"T-test Statistic: {t_stat:.4f}, P-value: {p_value:.4f}\")\n",
    "\n",
    "# Interpretation of p-value\n",
    "alpha = 0.05\n",
    "if p_value < alpha:\n",
    "    print(\"Reject the null hypothesis. Moon-Earth distance variations have a significant effect on earthquake magnitude.\")\n",
    "else:\n",
    "    print(\"Fail to reject the null hypothesis. Moon-Earth distance variations do not have a significant effect on earthquake magnitude.\")"
   ]
  },
  {
   "cell_type": "code",
   "execution_count": null,
   "metadata": {},
   "outputs": [],
   "source": []
  },
  {
   "cell_type": "code",
   "execution_count": null,
   "metadata": {},
   "outputs": [],
   "source": []
  },
  {
   "cell_type": "code",
   "execution_count": null,
   "metadata": {},
   "outputs": [],
   "source": []
  }
 ],
 "metadata": {
  "kernelspec": {
   "display_name": "Python 3 (ipykernel)",
   "language": "python",
   "name": "python3"
  },
  "language_info": {
   "codemirror_mode": {
    "name": "ipython",
    "version": 3
   },
   "file_extension": ".py",
   "mimetype": "text/x-python",
   "name": "python",
   "nbconvert_exporter": "python",
   "pygments_lexer": "ipython3",
   "version": "3.11.5"
  }
 },
 "nbformat": 4,
 "nbformat_minor": 4
}
